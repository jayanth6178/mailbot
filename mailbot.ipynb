{
  "nbformat": 4,
  "nbformat_minor": 0,
  "metadata": {
    "colab": {
      "provenance": [],
      "toc_visible": true
    },
    "kernelspec": {
      "name": "python3",
      "display_name": "Python 3"
    },
    "language_info": {
      "name": "python"
    }
  },
  "cells": [
    {
      "cell_type": "code",
      "execution_count": 11,
      "metadata": {
        "colab": {
          "base_uri": "https://localhost:8080/"
        },
        "id": "YRxwFqT3oOW0",
        "outputId": "34d782c0-7dea-49fd-f2f0-1780b473d9cc"
      },
      "outputs": [
        {
          "output_type": "stream",
          "name": "stdout",
          "text": [
            "Email sent to brian.ferrill@dish.com\n",
            "Email sent to herran.argaw@outlier.ai\n",
            "Email sent to marko.miholjcic@outlier.ai\n",
            "Email sent to jschmitz@iunu.com\n",
            "Email sent to lindsay.thorne@medavie.bluecross.ca\n"
          ]
        }
      ],
      "source": [
        "import smtplib\n",
        "import os\n",
        "from email.message import EmailMessage\n",
        "\n",
        "def send_emails(smtp_server, smtp_port, smtp_user, smtp_password, email_list, subject, body, attachment_path):\n",
        "    # Create the SMTP connection\n",
        "    with smtplib.SMTP_SSL(smtp_server, smtp_port) as server:\n",
        "        server.login(smtp_user, smtp_password)\n",
        "\n",
        "        for email in email_list:\n",
        "            # Create the email\n",
        "            msg = EmailMessage()\n",
        "            msg['From'] = smtp_user\n",
        "            msg['To'] = email\n",
        "            msg['Subject'] = subject\n",
        "            msg.set_content(body)\n",
        "\n",
        "            # Attach the file\n",
        "            if attachment_path:\n",
        "                with open(attachment_path, 'rb') as f:\n",
        "                    file_data = f.read()\n",
        "                    file_name = os.path.basename(attachment_path)\n",
        "                    msg.add_attachment(file_data, maintype='application', subtype='octet-stream', filename=file_name)\n",
        "\n",
        "            # Send the email\n",
        "            server.send_message(msg)\n",
        "            print(f\"Email sent to {email}\")\n",
        "\n",
        "# Usage example:\n",
        "smtp_server = 'smtp.gmail.com'  # Replace with your SMTP server\n",
        "smtp_port = 465  # Replace with your SMTP port (usually 465 for SSL)\n",
        "smtp_user = 'jayanthsuddamalla48@gmail.com'  # Replace with your email\n",
        "smtp_password = 'zfgqpjnllqeifxfo'  # Replace with your email PASSKEY\n",
        "\n",
        "email_list = ['brian.ferrill@dish.com',\n",
        "'herran.argaw@outlier.ai',\n",
        "'marko.miholjcic@outlier.ai',\n",
        "'jschmitz@iunu.com',\n",
        "'lindsay.thorne@medavie.bluecross.ca']  # Replace with your list of emails\n",
        "subject = 'Data Engineer and Data Scientist Opportunities Inquiry'\n",
        "body = '''Dear Hiring Manager,\n",
        "\n",
        "I hope this message finds you well.\n",
        "\n",
        "My name is Jayanth, and I am an experienced Data Engineer with four years of expertise in the financial, healthcare and automobile industries where I have demonstrated my skills in data warehousing, ETL processes, and cloud platforms. I am currently seeking a Data Engineer role where I can leverage my skills and experience to contribute to impactful projects.\n",
        "\n",
        "In my current role at Wells Fargo, I am working on a credit card application where I optimized query performance on large datasets using SQL and Python. I developed scalable data pipelines using Apache Airflow and Talend. I led the migration of on-premises data infrastructure to AWS, leveraging services like S3, EMR, and Lambda. Apart from these technologies I do have great experience working with Machine Learning models as well and optimizing existing models by preprocessing the datasets and hyperparameter tuning.\n",
        "\n",
        "I am very interested in exploring opportunities within your esteemed organization. If there are any relevant positions available, I would love to connect and discuss how my background, skills, and experiences align with your requirements. I have attached my resume for your reference.\n",
        "\n",
        "Thank you for considering my application. I look forward to the possibility of discussing how I can contribute to your team.\n",
        "\n",
        "Best regards,\n",
        "\n",
        "Jayanth Suddamalla\n",
        "Data Engineer\n",
        "Parsippany, NJ\n",
        "417 633-2302\n",
        "jayanthsuddamalla48@gmail.com\n",
        "https://www.linkedin.com/in/jayanth-s-dataengineer/\n",
        "'''\n",
        "attachment_path = '/content/JAYANTH SUDDAMALLA (2).pdf'  # Replace with the path to your attachment\n",
        "\n",
        "send_emails(smtp_server, smtp_port, smtp_user, smtp_password, email_list, subject, body, attachment_path)\n"
      ]
    },
    {
      "cell_type": "code",
      "source": [],
      "metadata": {
        "id": "Vq6B1vIUeGXQ"
      },
      "execution_count": null,
      "outputs": []
    }
  ]
}